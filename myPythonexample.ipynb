{
 "cells": [
  {
   "cell_type": "code",
   "execution_count": 1,
   "id": "70d33d27",
   "metadata": {},
   "outputs": [
    {
     "name": "stdout",
     "output_type": "stream",
     "text": [
      "Hello Kunal\n"
     ]
    }
   ],
   "source": [
    "print(\"Hello Kunal\")"
   ]
  },
  {
   "cell_type": "code",
   "execution_count": 2,
   "id": "764af7ad",
   "metadata": {},
   "outputs": [
    {
     "name": "stdout",
     "output_type": "stream",
     "text": [
      "20\n"
     ]
    }
   ],
   "source": [
    "a=10\n",
    "b=10\n",
    "print(a+b)"
   ]
  },
  {
   "cell_type": "code",
   "execution_count": 6,
   "id": "03eb9d29",
   "metadata": {},
   "outputs": [
    {
     "name": "stdout",
     "output_type": "stream",
     "text": [
      "<class 'str'>\n"
     ]
    }
   ],
   "source": [
    "a=12\n",
    "b=12.5\n",
    "c=\"hello\"\n",
    "print(type(c))\n",
    "#this is my first app"
   ]
  },
  {
   "cell_type": "code",
   "execution_count": 4,
   "id": "d47aeac3",
   "metadata": {
    "scrolled": true
   },
   "outputs": [
    {
     "name": "stdout",
     "output_type": "stream",
     "text": [
      "Enter Your NameKunal Kumar\n",
      "Your Name is Kunal Kumar\n"
     ]
    }
   ],
   "source": [
    "name=input(\"Enter Your Name\")\n",
    "print(\"Your Name is\",name )\n"
   ]
  },
  {
   "cell_type": "code",
   "execution_count": 7,
   "id": "ac9f5a9c",
   "metadata": {},
   "outputs": [
    {
     "name": "stdout",
     "output_type": "stream",
     "text": [
      "34\n"
     ]
    }
   ],
   "source": [
    "a=10\n",
    "b=24\n",
    "print(a+b)"
   ]
  },
  {
   "cell_type": "code",
   "execution_count": 8,
   "id": "6387779d",
   "metadata": {},
   "outputs": [
    {
     "name": "stdout",
     "output_type": "stream",
     "text": [
      "210\n"
     ]
    }
   ],
   "source": [
    "a=21\n",
    "b=10\n",
    "print(a*b)"
   ]
  },
  {
   "cell_type": "code",
   "execution_count": 9,
   "id": "e166d8fd",
   "metadata": {},
   "outputs": [
    {
     "name": "stdout",
     "output_type": "stream",
     "text": [
      "2.0\n"
     ]
    }
   ],
   "source": [
    "a=10\n",
    "b=5\n",
    "print(a/b)"
   ]
  },
  {
   "cell_type": "code",
   "execution_count": 10,
   "id": "f062a2f1",
   "metadata": {},
   "outputs": [
    {
     "name": "stdout",
     "output_type": "stream",
     "text": [
      "18\n"
     ]
    }
   ],
   "source": [
    "piggybank1=10\n",
    "piggybank2=5\n",
    "piggybank3=2\n",
    "piggybank4=1\n",
    "print(piggybank1+piggybank2+piggybank3+piggybank4)\n"
   ]
  },
  {
   "cell_type": "code",
   "execution_count": 13,
   "id": "e659088f",
   "metadata": {},
   "outputs": [
    {
     "name": "stdout",
     "output_type": "stream",
     "text": [
      "a is largest\n",
      "hello\n"
     ]
    }
   ],
   "source": [
    "a=56\n",
    "b=45\n",
    "if (a>b) :\n",
    "    print(\"a is largest\")\n",
    "    print(\"hello\")\n",
    "else:\n",
    "    print(\"b is largest\")"
   ]
  },
  {
   "cell_type": "code",
   "execution_count": 20,
   "id": "e4674ba0",
   "metadata": {},
   "outputs": [
    {
     "name": "stdout",
     "output_type": "stream",
     "text": [
      "Enter your meter reading: 250\n",
      "Your total amount is:  1637.5\n"
     ]
    }
   ],
   "source": [
    "meter=float(input(\"Enter your meter reading: \"))\n",
    "if(meter>100):\n",
    "    unit=(100*5.95)+((meter-100)*6.95)\n",
    "else:\n",
    "    unit=meter*5.95\n",
    "print(\"Your total amount is: \",unit)"
   ]
  },
  {
   "cell_type": "code",
   "execution_count": 16,
   "id": "0a1794e9",
   "metadata": {},
   "outputs": [
    {
     "name": "stdout",
     "output_type": "stream",
     "text": [
      "42\n"
     ]
    }
   ],
   "source": [
    "a=20\n",
    "b=22\n",
    "print(a+b)"
   ]
  },
  {
   "cell_type": "code",
   "execution_count": 21,
   "id": "53c10bbe",
   "metadata": {},
   "outputs": [
    {
     "name": "stdout",
     "output_type": "stream",
     "text": [
      "Enter course code\n",
      "CAP776\n",
      "Enter total CA obtained marks\n",
      "29\n",
      "Enter total MTT obtained marks\n",
      "30\n",
      "Enter total ETE obtained marks\n",
      "39\n",
      "Enter total Attendance Marks\n",
      "5\n",
      "---Report Card----\n",
      "Percentage in CAP776 55.10714285714286%\n",
      "CGPA in CAP776 5.510714285714286"
     ]
    }
   ],
   "source": [
    "CA_Total=100\n",
    "CA_Wtg=25\n",
    "MTT_Total=40\n",
    "MTT_Wtg=20\n",
    "ETE_Total=70\n",
    "ETE_Wtg=50\n",
    "\n",
    "\n",
    "course_code=input(\"Enter course code\\n\")\n",
    "CA_obtained_Marks=float(input(\"Enter total CA obtained marks\\n\"))\n",
    "MTT_obtained_Marks=float(input(\"Enter total MTT obtained marks\\n\"))\n",
    "ETE_obtained_Marks=float(input(\"Enter total ETE obtained marks\\n\"))\n",
    "Att=float(input(\"Enter total Attendance Marks\\n\"))\n",
    "CA=(CA_obtained_Marks*CA_Wtg)/CA_Total\n",
    "MTT=(MTT_obtained_Marks*MTT_Wtg)/MTT_Total\n",
    "ETE=(ETE_obtained_Marks*ETE_Wtg)/ETE_Total\n",
    "Total=CA+MTT+ETE+Att\n",
    "print(\"---Report Card----\")\n",
    "print(\"Percentage in\",course_code,Total,end=\"\")\n",
    "print(\"%\")\n",
    "print(\"CGPA in\",course_code,Total/10,end=\"\")"
   ]
  },
  {
   "cell_type": "code",
   "execution_count": null,
   "id": "3ff0d3b5",
   "metadata": {},
   "outputs": [],
   "source": []
  }
 ],
 "metadata": {
  "kernelspec": {
   "display_name": "Python 3 (ipykernel)",
   "language": "python",
   "name": "python3"
  },
  "language_info": {
   "codemirror_mode": {
    "name": "ipython",
    "version": 3
   },
   "file_extension": ".py",
   "mimetype": "text/x-python",
   "name": "python",
   "nbconvert_exporter": "python",
   "pygments_lexer": "ipython3",
   "version": "3.9.6"
  }
 },
 "nbformat": 4,
 "nbformat_minor": 5
}
